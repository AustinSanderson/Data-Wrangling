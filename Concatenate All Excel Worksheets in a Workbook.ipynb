{
 "cells": [
  {
   "cell_type": "code",
   "execution_count": 2,
   "id": "f0d8d47c",
   "metadata": {},
   "outputs": [],
   "source": [
    "import pandas as pd"
   ]
  },
  {
   "cell_type": "code",
   "execution_count": 4,
   "id": "1519cd90",
   "metadata": {},
   "outputs": [
    {
     "data": {
      "text/plain": [
       "{'2008':       fips_code  year  total_votes  dem_votes  gop_votes  oth_votes\n",
       " 0         26041  2008        19064       9974       8763        327\n",
       " 1         48295  2008         1256        155       1093          8\n",
       " 2          1127  2008        28652       7420      20722        510\n",
       " 3         48389  2008         3077       1606       1445         26\n",
       " 4         56017  2008         2546        619       1834         93\n",
       " ...         ...   ...          ...        ...        ...        ...\n",
       " 3107      17115  2008        51216      25487      24948        781\n",
       " 3108      29215  2008        10851       3410       7215        226\n",
       " 3109      46051  2008         3830       1786       1951         93\n",
       " 3110      17103  2008        16318       7765       8258        295\n",
       " 3111      20063  2008         1418        261       1136         21\n",
       " \n",
       " [3112 rows x 6 columns],\n",
       " '2012':       fips_code  year  total_votes  dem_votes  gop_votes  oth_votes\n",
       " 0         26041  2012        18043       8330       9533        180\n",
       " 1         48295  2012         1168        119       1044          5\n",
       " 2          1127  2012        28497       6551      21633        313\n",
       " 3         48389  2012         2867       1649       1185         33\n",
       " 4         56017  2012         2495        523       1894         78\n",
       " ...         ...   ...          ...        ...        ...        ...\n",
       " 3107      17115  2012        48742      22688      25249        805\n",
       " 3108      29215  2012        10764       2871       7618        275\n",
       " 3109      46051  2012         3606       1493       2034         79\n",
       " 3110      17103  2012        15275       6932       8046        297\n",
       " 3111      20063  2012         1368        174       1155         39\n",
       " \n",
       " [3112 rows x 6 columns],\n",
       " '2016':       fips_code  year  total_votes  dem_votes  gop_votes  oth_votes\n",
       " 0         26041  2016        18467       6431      11112        924\n",
       " 1         48295  2016         1322        135       1159         28\n",
       " 2          1127  2016        29243       4486      24208        549\n",
       " 3         48389  2016         3184       1659       1417        108\n",
       " 4         56017  2016         2535        400       1939        196\n",
       " ...         ...   ...          ...        ...        ...        ...\n",
       " 3107      17115  2016        47283      18211      26782       2290\n",
       " 3108      29215  2016        10935       1728       8875        332\n",
       " 3109      46051  2016         3562        970       2381        211\n",
       " 3110      17103  2016        15215       5499       8597       1119\n",
       " 3111      20063  2016         1328        149       1127         52\n",
       " \n",
       " [3112 rows x 6 columns],\n",
       " '2020':       fips_code    year  total_votes  dem_votes  gop_votes  oth_votes\n",
       " 0       26041.0  2020.0      21151.0     7606.0    13207.0      338.0\n",
       " 1       48295.0  2020.0       1353.0      131.0     1205.0       17.0\n",
       " 2        1127.0  2020.0      31170.0     4834.0    26002.0      334.0\n",
       " 3       48389.0  2020.0       3687.0     1395.0     2254.0       38.0\n",
       " 4       56017.0  2020.0       2577.0      482.0     1999.0       96.0\n",
       " ...         ...     ...          ...        ...        ...        ...\n",
       " 3107    17115.0     NaN      49387.0    19847.0    28589.0        NaN\n",
       " 3108    29215.0     NaN      11315.0     1716.0     9478.0        NaN\n",
       " 3109    46051.0     NaN       3745.0     1056.0     2618.0        NaN\n",
       " 3110    17103.0     NaN      16440.0     6407.0     9630.0        NaN\n",
       " 3111    20063.0     NaN       1433.0      163.0     1256.0        NaN\n",
       " \n",
       " [3112 rows x 6 columns]}"
      ]
     },
     "execution_count": 4,
     "metadata": {},
     "output_type": "execute_result"
    }
   ],
   "source": [
    "#Generate df of all worksheets in an excel workbook\n",
    "dfs=pd.read_excel('2008 - 2020 Election Results.xlsx', sheet_name=None, skiprows=0)\n",
    "dfs\n"
   ]
  },
  {
   "cell_type": "code",
   "execution_count": 5,
   "id": "b20abe37",
   "metadata": {
    "scrolled": true
   },
   "outputs": [
    {
     "data": {
      "text/html": [
       "<div>\n",
       "<style scoped>\n",
       "    .dataframe tbody tr th:only-of-type {\n",
       "        vertical-align: middle;\n",
       "    }\n",
       "\n",
       "    .dataframe tbody tr th {\n",
       "        vertical-align: top;\n",
       "    }\n",
       "\n",
       "    .dataframe thead th {\n",
       "        text-align: right;\n",
       "    }\n",
       "</style>\n",
       "<table border=\"1\" class=\"dataframe\">\n",
       "  <thead>\n",
       "    <tr style=\"text-align: right;\">\n",
       "      <th></th>\n",
       "      <th>fips_code</th>\n",
       "      <th>year</th>\n",
       "      <th>total_votes</th>\n",
       "      <th>dem_votes</th>\n",
       "      <th>gop_votes</th>\n",
       "      <th>oth_votes</th>\n",
       "    </tr>\n",
       "  </thead>\n",
       "  <tbody>\n",
       "    <tr>\n",
       "      <th>0</th>\n",
       "      <td>26041.0</td>\n",
       "      <td>2008.0</td>\n",
       "      <td>19064.0</td>\n",
       "      <td>9974.0</td>\n",
       "      <td>8763.0</td>\n",
       "      <td>327.0</td>\n",
       "    </tr>\n",
       "    <tr>\n",
       "      <th>1</th>\n",
       "      <td>48295.0</td>\n",
       "      <td>2008.0</td>\n",
       "      <td>1256.0</td>\n",
       "      <td>155.0</td>\n",
       "      <td>1093.0</td>\n",
       "      <td>8.0</td>\n",
       "    </tr>\n",
       "    <tr>\n",
       "      <th>2</th>\n",
       "      <td>1127.0</td>\n",
       "      <td>2008.0</td>\n",
       "      <td>28652.0</td>\n",
       "      <td>7420.0</td>\n",
       "      <td>20722.0</td>\n",
       "      <td>510.0</td>\n",
       "    </tr>\n",
       "    <tr>\n",
       "      <th>3</th>\n",
       "      <td>48389.0</td>\n",
       "      <td>2008.0</td>\n",
       "      <td>3077.0</td>\n",
       "      <td>1606.0</td>\n",
       "      <td>1445.0</td>\n",
       "      <td>26.0</td>\n",
       "    </tr>\n",
       "    <tr>\n",
       "      <th>4</th>\n",
       "      <td>56017.0</td>\n",
       "      <td>2008.0</td>\n",
       "      <td>2546.0</td>\n",
       "      <td>619.0</td>\n",
       "      <td>1834.0</td>\n",
       "      <td>93.0</td>\n",
       "    </tr>\n",
       "  </tbody>\n",
       "</table>\n",
       "</div>"
      ],
      "text/plain": [
       "   fips_code    year  total_votes  dem_votes  gop_votes  oth_votes\n",
       "0    26041.0  2008.0      19064.0     9974.0     8763.0      327.0\n",
       "1    48295.0  2008.0       1256.0      155.0     1093.0        8.0\n",
       "2     1127.0  2008.0      28652.0     7420.0    20722.0      510.0\n",
       "3    48389.0  2008.0       3077.0     1606.0     1445.0       26.0\n",
       "4    56017.0  2008.0       2546.0      619.0     1834.0       93.0"
      ]
     },
     "execution_count": 5,
     "metadata": {},
     "output_type": "execute_result"
    }
   ],
   "source": [
    "#concatenates all sheets in the df on the first row\n",
    "concat_df=pd.concat(dfs, axis=0, ignore_index=True)\n",
    "concat_df.head()"
   ]
  },
  {
   "cell_type": "code",
   "execution_count": 6,
   "id": "082f60d4",
   "metadata": {},
   "outputs": [],
   "source": [
    "#Sending new df to excel\n",
    "concat_df.to_excel('Combined Election Results.xlsx')"
   ]
  },
  {
   "cell_type": "code",
   "execution_count": null,
   "id": "ef6002ff",
   "metadata": {},
   "outputs": [],
   "source": []
  }
 ],
 "metadata": {
  "kernelspec": {
   "display_name": "Python 3",
   "language": "python",
   "name": "python3"
  },
  "language_info": {
   "codemirror_mode": {
    "name": "ipython",
    "version": 3
   },
   "file_extension": ".py",
   "mimetype": "text/x-python",
   "name": "python",
   "nbconvert_exporter": "python",
   "pygments_lexer": "ipython3",
   "version": "3.8.8"
  }
 },
 "nbformat": 4,
 "nbformat_minor": 5
}
