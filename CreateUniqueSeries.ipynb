{
 "cells": [
  {
   "cell_type": "code",
   "execution_count": 1,
   "metadata": {},
   "outputs": [],
   "source": [
    "import pandas as pd\n",
    "import numpy as np"
   ]
  },
  {
   "cell_type": "code",
   "execution_count": 4,
   "metadata": {},
   "outputs": [
    {
     "name": "stdout",
     "output_type": "stream",
     "text": [
      "69     CA\n",
      "79     DC\n",
      "109    FL\n",
      "179    IL\n",
      "199    MA\n",
      "239    MD\n",
      "269    MI\n",
      "359    NJ\n",
      "389    NY\n",
      "419    PA\n",
      "449    TX\n",
      "499    VA\n",
      "529    WA\n",
      "Name: state, dtype: object\n"
     ]
    }
   ],
   "source": [
    "#Creating a series to compare\n",
    "s=pd.read_excel('region_ids.xlsx', sheet_name='Sheet1')\n",
    "State_List = pd.Series.drop_duplicates(s['state'],  keep='last')\n",
    "print(State_List)\n",
    "State_List.to_excel('State List.xlsx')"
   ]
  },
  {
   "cell_type": "code",
   "execution_count": 5,
   "metadata": {},
   "outputs": [
    {
     "name": "stdout",
     "output_type": "stream",
     "text": [
      "10309    AK\n",
      "10327    AL\n",
      "10349    AR\n",
      "10352    AZ\n",
      "10410    CA\n",
      "10423    CO\n",
      "10424    CT\n",
      "10425    DC\n",
      "10475    FL\n",
      "10514    GA\n",
      "10515    GU\n",
      "10516    HI\n",
      "10521    SD\n",
      "10527    IA\n",
      "10531    ID\n",
      "10562    IL\n",
      "10571    IN\n",
      "10594    KY\n",
      "10610    LA\n",
      "10622    MA\n",
      "10643    MD\n",
      "10680    MN\n",
      "10694    KS\n",
      "10702    MO\n",
      "10703    MI\n",
      "10708    MS\n",
      "10733    NC\n",
      "10738    NE\n",
      "10739    NH\n",
      "10760    NJ\n",
      "10764    NM\n",
      "10767    NV\n",
      "10828    NY\n",
      "10857    OH\n",
      "10867    OK\n",
      "10876    OR\n",
      "10898    PA\n",
      "10899    PR\n",
      "10913    SC\n",
      "10942    TN\n",
      "10983    TX\n",
      "10986    UT\n",
      "11078    VA\n",
      "11081    VT\n",
      "11087    WA\n",
      "11093    WI\n",
      "11101    WV\n",
      "Name: state, dtype: object\n"
     ]
    }
   ],
   "source": [
    "#Creating a series to compare\n",
    "s=pd.read_excel('Dictionary (FIPS, CBSA codes, County Name, CoCs) copy.xlsx', sheet_name='CoC FIPS Merges')\n",
    "State_List = pd.Series.drop_duplicates(s['state'],  keep='last')\n",
    "print(State_List)\n",
    "State_List.to_excel('State List Full.xlsx')"
   ]
  },
  {
   "cell_type": "code",
   "execution_count": 9,
   "metadata": {},
   "outputs": [
    {
     "data": {
      "text/html": [
       "<div>\n",
       "<style scoped>\n",
       "    .dataframe tbody tr th:only-of-type {\n",
       "        vertical-align: middle;\n",
       "    }\n",
       "\n",
       "    .dataframe tbody tr th {\n",
       "        vertical-align: top;\n",
       "    }\n",
       "\n",
       "    .dataframe thead tr th {\n",
       "        text-align: left;\n",
       "    }\n",
       "</style>\n",
       "<table border=\"1\" class=\"dataframe\">\n",
       "  <thead>\n",
       "  </thead>\n",
       "  <tbody>\n",
       "  </tbody>\n",
       "</table>\n",
       "</div>"
      ],
      "text/plain": [
       "Empty DataFrame\n",
       "Columns: []\n",
       "Index: []"
      ]
     },
     "execution_count": 9,
     "metadata": {},
     "output_type": "execute_result"
    }
   ],
   "source": [
    "#comparing series \n",
    "df=pd.read_excel('State List Compare.xlsx', sheet_name='Sheet1') \n",
    "df2 = df.copy() \n",
    "df.compare(df2)"
   ]
  },
  {
   "cell_type": "code",
   "execution_count": null,
   "metadata": {},
   "outputs": [],
   "source": []
  }
 ],
 "metadata": {
  "kernelspec": {
   "display_name": "Python 3",
   "language": "python",
   "name": "python3"
  },
  "language_info": {
   "codemirror_mode": {
    "name": "ipython",
    "version": 3
   },
   "file_extension": ".py",
   "mimetype": "text/x-python",
   "name": "python",
   "nbconvert_exporter": "python",
   "pygments_lexer": "ipython3",
   "version": "3.8.8"
  }
 },
 "nbformat": 4,
 "nbformat_minor": 4
}
