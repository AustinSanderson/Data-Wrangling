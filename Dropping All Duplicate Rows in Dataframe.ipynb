{
 "cells": [
  {
   "cell_type": "code",
   "execution_count": 1,
   "metadata": {},
   "outputs": [],
   "source": [
    "import pandas as pd"
   ]
  },
  {
   "cell_type": "code",
   "execution_count": 8,
   "metadata": {},
   "outputs": [
    {
     "name": "stdout",
     "output_type": "stream",
     "text": [
      "  CoC Number  year  C_Legal_Med  C_Legal_Rec\n",
      "0     AK-500  2007          0.0          1.0\n",
      "1     AK-500  2008          0.0          1.0\n",
      "2     AK-500  2009          0.0          1.0\n",
      "3     AK-500  2010          0.0          1.0\n",
      "4     AK-500  2011          0.0          1.0\n"
     ]
    }
   ],
   "source": [
    "#Creating a filter list for all desired variables\n",
    "filt_list = ['CoC Number', 'year', 'C_Legal_Med', 'C_Legal_Rec']\n",
    "\n",
    "#Reading in the worksheet for all desired variables\n",
    "df = pd.read_excel('CoC_Dict + Pov + Incar + Climate + Rents + PopDensity + CannaPol + ElectionVotes.xlsx', sheet_name='Sheet1', usecols=filt_list)\n",
    "print(df.head())"
   ]
  },
  {
   "cell_type": "code",
   "execution_count": 9,
   "metadata": {},
   "outputs": [],
   "source": [
    "#Dropping duplicate rows in the dataframe\n",
    "new_df = df.drop_duplicates()\n",
    "print(new_df.head())"
   ]
  },
  {
   "cell_type": "code",
   "execution_count": 11,
   "metadata": {},
   "outputs": [],
   "source": [
    "#Sending the new df to excel\n",
    "new_df.to_excel('CannaPol.xlsx')"
   ]
  },
  {
   "cell_type": "code",
   "execution_count": null,
   "metadata": {},
   "outputs": [],
   "source": []
  }
 ],
 "metadata": {
  "kernelspec": {
   "display_name": "Python 3",
   "language": "python",
   "name": "python3"
  },
  "language_info": {
   "codemirror_mode": {
    "name": "ipython",
    "version": 3
   },
   "file_extension": ".py",
   "mimetype": "text/x-python",
   "name": "python",
   "nbconvert_exporter": "python",
   "pygments_lexer": "ipython3",
   "version": "3.8.8"
  }
 },
 "nbformat": 4,
 "nbformat_minor": 4
}
