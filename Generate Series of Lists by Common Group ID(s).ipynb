{
 "cells": [
  {
   "cell_type": "code",
   "execution_count": 1,
   "metadata": {},
   "outputs": [],
   "source": [
    "import pandas as pd"
   ]
  },
  {
   "cell_type": "code",
   "execution_count": 6,
   "metadata": {},
   "outputs": [
    {
     "name": "stdout",
     "output_type": "stream",
     "text": [
      "     CoC Number  year             FIPS State County\n",
      "0        AK-500  2007                        [2020]\n",
      "1        AK-500  2008                        [2020]\n",
      "2        AK-500  2009                        [2020]\n",
      "3        AK-500  2010                        [2020]\n",
      "4        AK-500  2011                        [2020]\n",
      "...         ...   ...                           ...\n",
      "4599     WV-503  2016  [54015, 54039, 54043, 54079]\n",
      "4600     WV-503  2017  [54015, 54039, 54043, 54079]\n",
      "4601     WV-503  2018  [54015, 54039, 54043, 54079]\n",
      "4602     WV-503  2019  [54015, 54039, 54043, 54079]\n",
      "4603     WV-503  2020  [54015, 54039, 54043, 54079]\n",
      "\n",
      "[4604 rows x 3 columns]\n"
     ]
    }
   ],
   "source": [
    "#Creating the group list of common IDs\n",
    "group_filt = ['CoC Number', 'year']\n",
    "\n",
    "#Setting the desired variables list to generate new df\n",
    "filt_list = ['CoC Number','year', 'FIPS State County']\n",
    "\n",
    "#Reading in worksheet with only the desired variables\n",
    "agg_df = pd.read_excel('CoC_Dict + Pov + Incar + Climate + Rents + PopDensity + CannaPol + ElectionVotes.xlsx', sheet_name='Sheet1', usecols=filt_list)"
   ]
  },
  {
   "cell_type": "code",
   "execution_count": null,
   "metadata": {},
   "outputs": [],
   "source": [
    "#Grouping df by common IDs and generating lists for each common group\n",
    "new_df = agg_df.groupby(group_filt).agg(list).reset_index()"
   ]
  },
  {
   "cell_type": "code",
   "execution_count": null,
   "metadata": {},
   "outputs": [],
   "source": [
    "#Dropping duplicates of all rows in the newly created Series\n",
    "new_df.loc[new_df.astype(str).drop_duplicates().index]\n",
    "print(new_df)"
   ]
  },
  {
   "cell_type": "code",
   "execution_count": null,
   "metadata": {},
   "outputs": [],
   "source": [
    "#Creating the new excel DF\n",
    "new_df.to_excel('Collapsed FIPS.xlsx')"
   ]
  }
 ],
 "metadata": {
  "kernelspec": {
   "display_name": "Python 3",
   "language": "python",
   "name": "python3"
  },
  "language_info": {
   "codemirror_mode": {
    "name": "ipython",
    "version": 3
   },
   "file_extension": ".py",
   "mimetype": "text/x-python",
   "name": "python",
   "nbconvert_exporter": "python",
   "pygments_lexer": "ipython3",
   "version": "3.8.8"
  }
 },
 "nbformat": 4,
 "nbformat_minor": 4
}
