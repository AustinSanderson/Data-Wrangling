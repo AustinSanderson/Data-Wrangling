{
 "cells": [
  {
   "cell_type": "code",
   "execution_count": 6,
   "id": "0be604bc",
   "metadata": {},
   "outputs": [],
   "source": [
    "import pandas as pd"
   ]
  },
  {
   "cell_type": "code",
   "execution_count": 4,
   "id": "f6df69ca",
   "metadata": {},
   "outputs": [],
   "source": [
    "#Setting the desired variables\n",
    "filt_cols = ['year', 'fips', 'total_pop', 'urbanicity', 'commuting_zone', 'metro_area', 'land_area', 'total_jail_pop', 'female_jail_pop', 'male_jail_pop', 'total_jail_adm', 'total_jail_dis', 'total_prison_pop', 'female_prison_pop', 'male_prison_pop', 'total_prison_adm', 'total_jail_pop_rate', 'total_jail_adm_rate', 'total_prison_pop_rate', 'total_prison_adm_rate']"
   ]
  },
  {
   "cell_type": "code",
   "execution_count": 22,
   "id": "4563281b",
   "metadata": {
    "scrolled": true
   },
   "outputs": [],
   "source": [
    "#Generating dataframe from the list of desired variables\n",
    "df = pd.read_csv('2007 - 2020.csv', usecols=filt_cols)"
   ]
  },
  {
   "cell_type": "code",
   "execution_count": 23,
   "id": "85438879",
   "metadata": {},
   "outputs": [],
   "source": [
    "df.to_excel('Incar_YearCol_Filt.xlsx')"
   ]
  },
  {
   "cell_type": "code",
   "execution_count": null,
   "id": "19ceb1c3",
   "metadata": {},
   "outputs": [],
   "source": []
  }
 ],
 "metadata": {
  "kernelspec": {
   "display_name": "Python 3",
   "language": "python",
   "name": "python3"
  },
  "language_info": {
   "codemirror_mode": {
    "name": "ipython",
    "version": 3
   },
   "file_extension": ".py",
   "mimetype": "text/x-python",
   "name": "python",
   "nbconvert_exporter": "python",
   "pygments_lexer": "ipython3",
   "version": "3.8.8"
  }
 },
 "nbformat": 4,
 "nbformat_minor": 5
}
