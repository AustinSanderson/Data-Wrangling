{
 "cells": [
  {
   "cell_type": "code",
   "execution_count": 1,
   "id": "0c35406f",
   "metadata": {},
   "outputs": [],
   "source": [
    "import pandas as pd"
   ]
  },
  {
   "cell_type": "code",
   "execution_count": 8,
   "id": "8ef97109",
   "metadata": {},
   "outputs": [
    {
     "name": "stdout",
     "output_type": "stream",
     "text": [
      "                CTYNAME     2010     2011     2012     2013     2014     2015  \\\n",
      "0               Alabama  4785437  4799069  4815588  4830081  4841799  4852347   \n",
      "1        Autauga County    54773    55227    54954    54727    54893    54864   \n",
      "2        Baldwin County   183112   186558   190145   194885   199183   202939   \n",
      "3        Barbour County    27327    27341    27169    26937    26755    26283   \n",
      "4           Bibb County    22870    22745    22667    22521    22553    22566   \n",
      "...                 ...      ...      ...      ...      ...      ...      ...   \n",
      "3188  Sweetwater County    43574    43986    45002    45157    44948    44719   \n",
      "3189       Teton County    21296    21414    21624    22315    22773    23047   \n",
      "3190       Uinta County    21089    20896    20996    20951    20822    20763   \n",
      "3191    Washakie County     8530     8449     8409     8413     8273     8278   \n",
      "3192      Weston County     7198     7142     7077     7136     7138     7208   \n",
      "\n",
      "         2016     2017     2018     2019  \n",
      "0     4863525  4874486  4887681  4903185  \n",
      "1       55243    55390    55533    55869  \n",
      "2      207601   212521   217855   223234  \n",
      "3       25806    25157    24872    24686  \n",
      "4       22586    22550    22367    22394  \n",
      "...       ...      ...      ...      ...  \n",
      "3188    44222    43464    42858    42343  \n",
      "3189    23234    23384    23269    23464  \n",
      "3190    20682    20431    20292    20226  \n",
      "3191     8165     8010     7877     7805  \n",
      "3192     7220     6968     6924     6927  \n",
      "\n",
      "[3193 rows x 11 columns]\n"
     ]
    }
   ],
   "source": [
    "#Note: need to go back and use the cols provided for FIPS to match; cannot use CTYNAME\n",
    "df = pd.read_csv('population 2010 - 2019.csv')\n",
    "df.set_index('CTYNAME')\n",
    "print(df)"
   ]
  },
  {
   "cell_type": "code",
   "execution_count": 11,
   "id": "0330afb1",
   "metadata": {},
   "outputs": [],
   "source": [
    "#Creating list to insert in the col-to-row transformation\n",
    "melt_list = ['2010', '2011', '2012', '2013', '2014', '2015', '2016', '2017', '2018', '2019']\n",
    "\n",
    "#Resetting the index and creating the new df to long-form\n",
    "df = df.reset_index()\n",
    "long_df = pd.melt(df, id_vars='CTYNAME', value_vars=melt_list)"
   ]
  },
  {
   "cell_type": "code",
   "execution_count": 12,
   "id": "940b3bed",
   "metadata": {},
   "outputs": [],
   "source": [
    "long_df.to_excel('Long-form County Pop.xlsx')"
   ]
  },
  {
   "cell_type": "code",
   "execution_count": null,
   "id": "39cfd572",
   "metadata": {},
   "outputs": [],
   "source": []
  }
 ],
 "metadata": {
  "kernelspec": {
   "display_name": "Python 3",
   "language": "python",
   "name": "python3"
  },
  "language_info": {
   "codemirror_mode": {
    "name": "ipython",
    "version": 3
   },
   "file_extension": ".py",
   "mimetype": "text/x-python",
   "name": "python",
   "nbconvert_exporter": "python",
   "pygments_lexer": "ipython3",
   "version": "3.8.8"
  }
 },
 "nbformat": 4,
 "nbformat_minor": 5
}
