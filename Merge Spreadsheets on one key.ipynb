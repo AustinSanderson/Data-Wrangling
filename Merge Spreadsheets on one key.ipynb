{
 "cells": [
  {
   "cell_type": "code",
   "execution_count": 1,
   "id": "905b1350",
   "metadata": {},
   "outputs": [],
   "source": [
    "import pandas as pd\n",
    "import numpy as np"
   ]
  },
  {
   "cell_type": "code",
   "execution_count": 3,
   "id": "5be0221e",
   "metadata": {
    "scrolled": true
   },
   "outputs": [
    {
     "name": "stdout",
     "output_type": "stream",
     "text": [
      "Unnamed: 0                                int64\n",
      "CoC Number                               object\n",
      "CoC Name                                 object\n",
      "state                                    object\n",
      "area_name                                object\n",
      "county_town_name                         object\n",
      "county_name                              object\n",
      "urbanicity                               object\n",
      "commuting_zone                          float64\n",
      "metro_area                              float64\n",
      "total_pop                               float64\n",
      "land_area                               float64\n",
      "state_FIPS                                int64\n",
      "county_FIPS                               int64\n",
      "FIPS State County                         int64\n",
      "CBSASub                                  object\n",
      "region_name                              object\n",
      "division_name                            object\n",
      "region_id                               float64\n",
      "division_id                             float64\n",
      "year                                      int64\n",
      "All Ages SAIPE Poverty Universe          object\n",
      "All Ages in Poverty Percent             float64\n",
      "Under Age 18 SAIPE Poverty Universe      object\n",
      "Under Age 18 in Poverty Count            object\n",
      "Under Age 18 in Poverty Percent         float64\n",
      "Median Household Income in Dollars       object\n",
      "total_jail_pop                          float64\n",
      "female_jail_pop                         float64\n",
      "male_jail_pop                           float64\n",
      "total_jail_adm                          float64\n",
      "total_jail_dis                          float64\n",
      "total_prison_pop                        float64\n",
      "female_prison_pop                       float64\n",
      "male_prison_pop                         float64\n",
      "total_prison_adm                        float64\n",
      "total_jail_pop_rate                     float64\n",
      "total_jail_adm_rate                     float64\n",
      "total_prison_pop_rate                   float64\n",
      "total_prison_adm_rate                   float64\n",
      "avg_low_temp                            float64\n",
      "temp_rank                               float64\n",
      "Temp Anomaly (1901-2000 base period)    float64\n",
      "1901-2000 Temp Mean                     float64\n",
      "Rent50_0                                float64\n",
      "Rent50_1                                float64\n",
      "Rent50_2                                float64\n",
      "Rent50_3                                float64\n",
      "Rent50_4                                float64\n",
      "dtype: object\n"
     ]
    }
   ],
   "source": [
    "CoC_pov_incar_climate_rents_df=pd.read_excel('CoC_Dict + Pov + Incar + Climate + Rents.xlsx', sheet_name='Sheet1')\n",
    "left=pd.DataFrame(CoC_pov_incar_climate_rents_df)\n",
    "dtype_df=left.dtypes\n",
    "print(dtype_df)\n"
   ]
  },
  {
   "cell_type": "code",
   "execution_count": 6,
   "id": "ba5b453c",
   "metadata": {
    "scrolled": false
   },
   "outputs": [
    {
     "name": "stdout",
     "output_type": "stream",
     "text": [
      "FIPS Code    object\n",
      "Area          int64\n",
      "dtype: object\n"
     ]
    }
   ],
   "source": [
    "sqmiles_df=pd.read_excel('County Square Mileage.xlsx', sheet_name='Truncated')\n",
    "right=pd.DataFrame(sqmiles_df)\n",
    "dtype_df=right.dtypes\n",
    "print(dtype_df)"
   ]
  },
  {
   "cell_type": "code",
   "execution_count": 7,
   "id": "19c12e5d",
   "metadata": {
    "scrolled": true
   },
   "outputs": [],
   "source": [
    "merged_df=pd.DataFrame.merge(left, right, how=\"outer\", left_on='FIPS State County', right_on='FIPS Code')"
   ]
  },
  {
   "cell_type": "code",
   "execution_count": 8,
   "id": "f9be28b7",
   "metadata": {},
   "outputs": [],
   "source": [
    "merged_df.to_excel('CoC_Dict + Pov + Incar + Climate + Rents + Square Mileage.xlsx')"
   ]
  },
  {
   "cell_type": "code",
   "execution_count": null,
   "id": "9e46287f",
   "metadata": {},
   "outputs": [],
   "source": []
  }
 ],
 "metadata": {
  "kernelspec": {
   "display_name": "Python 3",
   "language": "python",
   "name": "python3"
  },
  "language_info": {
   "codemirror_mode": {
    "name": "ipython",
    "version": 3
   },
   "file_extension": ".py",
   "mimetype": "text/x-python",
   "name": "python",
   "nbconvert_exporter": "python",
   "pygments_lexer": "ipython3",
   "version": "3.8.8"
  }
 },
 "nbformat": 4,
 "nbformat_minor": 5
}
