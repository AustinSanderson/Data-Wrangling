{
 "cells": [
  {
   "cell_type": "code",
   "execution_count": 2,
   "id": "a0aa86a0",
   "metadata": {},
   "outputs": [],
   "source": [
    "import os\n",
    "import glob\n",
    "import pandas as pd"
   ]
  },
  {
   "cell_type": "code",
   "execution_count": 23,
   "id": "daeb2184",
   "metadata": {},
   "outputs": [
    {
     "data": {
      "text/plain": [
       "['110-tmin-201201-1.csv',\n",
       " 'Combining Multiple CSV files in Same Folder.ipynb',\n",
       " '.DS_Store',\n",
       " '110-tmin-201301-1.csv',\n",
       " '110-tmin-200801-1.csv',\n",
       " '110-tmin-201801-1.csv',\n",
       " '110-tmin-201101-1.csv',\n",
       " '110-tmin-201001-1.csv',\n",
       " '110-tmin-201901-1.csv',\n",
       " '110-tmin-200901-1.csv',\n",
       " '110-tmin-201501-1.csv',\n",
       " '110-tmin-201401-1.csv',\n",
       " '.ipynb_checkpoints',\n",
       " '110-tmin-201601-1.csv',\n",
       " '110-tmin-202001-1.csv',\n",
       " '110-tmin-200701-1.csv',\n",
       " '110-tmin-201701-1.csv',\n",
       " 'Concat Spreadsheets.ipynb']"
      ]
     },
     "execution_count": 23,
     "metadata": {},
     "output_type": "execute_result"
    }
   ],
   "source": [
    "#Setting the working the directory\n",
    "os.chdir(\"/Users/roygbiv/Dropbox/Grad School/Independent Research/Homelessness/Data/0.Data Wrangling/[Aggregation] Merging All data sets on FIPS Key/[Append] Climate (Merge Years)/Minimum Temperature by County (2005 - 2021)/Relevant Years\")\n",
    "\n",
    "#Checking current working directory\n",
    "os.listdir()"
   ]
  },
  {
   "cell_type": "code",
   "execution_count": 24,
   "id": "5a1e2664",
   "metadata": {},
   "outputs": [],
   "source": [
    "#Adding all files with .csv extension to a list using reg expressions\n",
    "extension = 'csv'\n",
    "all_filenames = [i for i in glob.glob('*.{}'.format(extension))]"
   ]
  },
  {
   "cell_type": "code",
   "execution_count": 25,
   "id": "67dbf337",
   "metadata": {},
   "outputs": [],
   "source": [
    "#concat all files in the list\n",
    "combined_csv = pd.concat([pd.read_csv(f) for f in all_filenames])\n",
    "#export to csv\n",
    "combined_csv.to_csv(\"combined_csv.csv\", index=False, encoding='utf-8-sig')"
   ]
  },
  {
   "cell_type": "code",
   "execution_count": null,
   "id": "37e0bffc",
   "metadata": {},
   "outputs": [],
   "source": []
  }
 ],
 "metadata": {
  "kernelspec": {
   "display_name": "Python 3",
   "language": "python",
   "name": "python3"
  },
  "language_info": {
   "codemirror_mode": {
    "name": "ipython",
    "version": 3
   },
   "file_extension": ".py",
   "mimetype": "text/x-python",
   "name": "python",
   "nbconvert_exporter": "python",
   "pygments_lexer": "ipython3",
   "version": "3.8.8"
  }
 },
 "nbformat": 4,
 "nbformat_minor": 5
}
