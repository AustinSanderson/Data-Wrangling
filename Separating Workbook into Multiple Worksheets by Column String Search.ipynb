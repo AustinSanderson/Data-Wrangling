{
 "cells": [
  {
   "cell_type": "code",
   "execution_count": 2,
   "id": "6cc1c108",
   "metadata": {},
   "outputs": [],
   "source": [
    "import pandas as pd"
   ]
  },
  {
   "cell_type": "code",
   "execution_count": 7,
   "id": "d0afbc5c",
   "metadata": {},
   "outputs": [],
   "source": [
    "#Splitting Excel workbooks based on string search patterns\n",
    "search_values = ['balance of state', 'statewide']\n",
    "pattern = '|'.join(search_values)\n"
   ]
  },
  {
   "cell_type": "code",
   "execution_count": 14,
   "id": "fc003830",
   "metadata": {},
   "outputs": [],
   "source": [
    "#Example 1: Reading in the spreadsheet\n",
    "trunc_df=pd.read_excel('combined-hmic-pit_df.xlsx', sheet_name='CoCs')\n",
    "\n",
    "#Creating new DFs by searching and splitting workbook on string patterns\n",
    "# ~ Negates so the string does not contain; case does not matter\n",
    "CoC_result = trunc_df.loc[~(CoC_dftrunc['CoC Name'].str.contains(pattern, case=False, na=False))]\n",
    "BoS_result = trunc_df.loc[(CoC_dftrunc['CoC Name'].str.contains(pattern, case=False, na=False))]\n",
    "\n",
    "#Sending separate worksheets to Excel\n",
    "CoC_result.to_excel('Split_CoC.xlsx', sheet_name=\"CoCs\") \n",
    "BoS_result.to_excel('Split_BoS.xlsx', sheet_name=\"Balance of State\")"
   ]
  },
  {
   "cell_type": "code",
   "execution_count": 19,
   "id": "fd4e363b",
   "metadata": {},
   "outputs": [],
   "source": [
    "#Example 2: Reading in the spreadsheet\n",
    "new_df=pd.read_excel('combined-hmic-pit_df.xlsx', sheet_name='BoS and Statewide CoCs')\n",
    "\n",
    "#Creating new DFs by searching and splitting workbook on string patterns\n",
    "Statewide_Result = new_df.loc[(new_df['CoC Name'].str.contains('Statewide', case=False, na=False))]\n",
    "BoS_result = new_df.loc[(new_df['CoC Name'].str.contains('Balance of State', case=False, na=False))]\n",
    "\n",
    "#Sending separate worksheets to Excel\n",
    "Statewide_Result.to_excel('Split_Statewide.xlsx', sheet_name='Statewide CoCs')\n",
    "BoS_result.to_excel('Split_BoS.xlsx', sheet_name='Balance of State CoCs')"
   ]
  },
  {
   "cell_type": "code",
   "execution_count": null,
   "id": "ad7f1a15",
   "metadata": {},
   "outputs": [],
   "source": []
  }
 ],
 "metadata": {
  "kernelspec": {
   "display_name": "Python 3",
   "language": "python",
   "name": "python3"
  },
  "language_info": {
   "codemirror_mode": {
    "name": "ipython",
    "version": 3
   },
   "file_extension": ".py",
   "mimetype": "text/x-python",
   "name": "python",
   "nbconvert_exporter": "python",
   "pygments_lexer": "ipython3",
   "version": "3.8.8"
  }
 },
 "nbformat": 4,
 "nbformat_minor": 5
}
