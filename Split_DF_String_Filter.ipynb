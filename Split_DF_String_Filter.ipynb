{
 "cells": [
  {
   "cell_type": "code",
   "execution_count": 2,
   "metadata": {},
   "outputs": [],
   "source": [
    "import pandas as pd\n",
    "import numpy as np"
   ]
  },
  {
   "cell_type": "code",
   "execution_count": 7,
   "metadata": {},
   "outputs": [],
   "source": [
    "CoC_dftrunc=pd.read_excel('combined-hmic-pit_df.xlsx', sheet_name='CoCs')\n"
   ]
  },
  {
   "cell_type": "code",
   "execution_count": 14,
   "metadata": {},
   "outputs": [],
   "source": [
    "#Splitting the normal CoCs from those that are Balance of State or statewide CoCs\n",
    "search_values = ['balance of state', 'statewide']\n",
    "pattern = '|'.join(search_values)\n",
    "CoC_result = CoC_dftrunc.loc[~(CoC_dftrunc['CoC Name'].str.contains(pattern, case=False, na=False))]\n",
    "BoS_result = CoC_dftrunc.loc[(CoC_dftrunc['CoC Name'].str.contains(pattern, case=False, na=False))]\n",
    "CoC_result.to_excel('Split_CoC.xlsx', sheet_name=\"CoCs\") \n",
    "BoS_result.to_excel('Split_BoS.xlsx', sheet_name=\"Balance of State\")"
   ]
  },
  {
   "cell_type": "code",
   "execution_count": 19,
   "metadata": {},
   "outputs": [],
   "source": [
    "#Now splitting the Balance of State from Statewide\n",
    "\n",
    "#reading in the new sheet\n",
    "new_df=pd.read_excel('combined-hmic-pit_df.xlsx', sheet_name='BoS and Statewide CoCs')\n",
    "Statewide_Result = new_df.loc[(new_df['CoC Name'].str.contains('Statewide', case=False, na=False))]\n",
    "BoS_result = new_df.loc[(new_df['CoC Name'].str.contains('Balance of State', case=False, na=False))]\n",
    "Statewide_Result.to_excel('Split_Statewide.xlsx', sheet_name='Statewide CoCs')\n",
    "BoS_result.to_excel('Split_BoS.xlsx', sheet_name='Balance of State CoCs')"
   ]
  },
  {
   "cell_type": "code",
   "execution_count": null,
   "metadata": {},
   "outputs": [],
   "source": []
  }
 ],
 "metadata": {
  "kernelspec": {
   "display_name": "Python 3",
   "language": "python",
   "name": "python3"
  },
  "language_info": {
   "codemirror_mode": {
    "name": "ipython",
    "version": 3
   },
   "file_extension": ".py",
   "mimetype": "text/x-python",
   "name": "python",
   "nbconvert_exporter": "python",
   "pygments_lexer": "ipython3",
   "version": "3.8.3"
  }
 },
 "nbformat": 4,
 "nbformat_minor": 5
}
