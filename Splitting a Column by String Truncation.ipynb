{
 "cells": [
  {
   "cell_type": "code",
   "execution_count": 1,
   "id": "20026ae3",
   "metadata": {},
   "outputs": [],
   "source": [
    "import pandas as pd"
   ]
  },
  {
   "cell_type": "code",
   "execution_count": 19,
   "id": "987e09cc",
   "metadata": {},
   "outputs": [],
   "source": [
    "#Reading the csv into a dataframe\n",
    "df = pd.read_csv('combined_csv.csv')"
   ]
  },
  {
   "cell_type": "code",
   "execution_count": 20,
   "id": "64f13aa8",
   "metadata": {},
   "outputs": [
    {
     "name": "stdout",
     "output_type": "stream",
     "text": [
      "      state_fips county_fips\n",
      "0             AL         001\n",
      "1             AL         003\n",
      "2             AL         005\n",
      "3             AL         007\n",
      "4             AL         009\n",
      "...          ...         ...\n",
      "43899         AK         240\n",
      "43900         AK         261\n",
      "43901         AK         275\n",
      "43902         AK         282\n",
      "43903         AK         290\n",
      "\n",
      "[43904 rows x 2 columns]\n"
     ]
    }
   ],
   "source": [
    "#Creating a new df by splitting hyphenated columns\n",
    "df = pd.DataFrame(df['Location ID'].str.split('-',1).tolist(),\n",
    "                                 columns = ['state_fips','county_fips'], index=df.index)\n",
    "print(df)"
   ]
  },
  {
   "cell_type": "code",
   "execution_count": 22,
   "id": "3d88ba52",
   "metadata": {},
   "outputs": [],
   "source": [
    "df.to_excel('col_split.xlsx')"
   ]
  },
  {
   "cell_type": "code",
   "execution_count": null,
   "id": "90e3eedb",
   "metadata": {},
   "outputs": [],
   "source": []
  }
 ],
 "metadata": {
  "kernelspec": {
   "display_name": "Python 3",
   "language": "python",
   "name": "python3"
  },
  "language_info": {
   "codemirror_mode": {
    "name": "ipython",
    "version": 3
   },
   "file_extension": ".py",
   "mimetype": "text/x-python",
   "name": "python",
   "nbconvert_exporter": "python",
   "pygments_lexer": "ipython3",
   "version": "3.8.8"
  }
 },
 "nbformat": 4,
 "nbformat_minor": 5
}
