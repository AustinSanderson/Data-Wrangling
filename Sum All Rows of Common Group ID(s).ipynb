{
 "cells": [
  {
   "cell_type": "code",
   "execution_count": 1,
   "metadata": {},
   "outputs": [],
   "source": [
    "import pandas as pd"
   ]
  },
  {
   "cell_type": "code",
   "execution_count": 5,
   "metadata": {},
   "outputs": [
    {
     "data": {
      "text/plain": [
       "CoC Number                              object\n",
       "total_pop                              float64\n",
       "year                                     int64\n",
       "All Ages SAIPE Poverty Universe         object\n",
       "All Ages in Poverty                    float64\n",
       "Under Age 18 SAIPE Poverty Universe     object\n",
       "Under Age 18 in Poverty Count           object\n",
       "total_jail_pop                         float64\n",
       "female_jail_pop                        float64\n",
       "male_jail_pop                          float64\n",
       "total_jail_adm                         float64\n",
       "total_jail_dis                         float64\n",
       "total_prison_pop                       float64\n",
       "female_prison_pop                      float64\n",
       "male_prison_pop                        float64\n",
       "total_prison_adm                       float64\n",
       "total_votes                            float64\n",
       "dem_votes                              float64\n",
       "gop_votes                              float64\n",
       "oth_votes                              float64\n",
       "dtype: object"
      ]
     },
     "execution_count": 5,
     "metadata": {},
     "output_type": "execute_result"
    }
   ],
   "source": [
    "#Creating a list of desired variables for the dataframe\n",
    "filt_list = ['CoC Number', 'year', 'total_pop', 'All Ages in Poverty', \n",
    "               'total_jail_pop', 'female_jail_pop', 'male_jail_pop', 'total_jail_adm', 'total_jail_dis', 'total_prison_pop', 'female_prison_pop', \n",
    "                'male_prison_pop', 'total_prison_adm', 'All Ages SAIPE Poverty Universe', 'Under Age 18 SAIPE Poverty Universe', 'Under Age 18 in Poverty Count', \n",
    "                'total_votes', 'dem_votes', 'gop_votes', 'oth_votes']\n",
    "\n",
    "#Reading in spreadsheet with only the desired variables\n",
    "agg_df = pd.read_excel('Master Vars.xlsx', sheet_name='Sheet1', usecols=filt_list)\n",
    "agg_df.dtypes"
   ]
  },
  {
   "cell_type": "code",
   "execution_count": 6,
   "metadata": {},
   "outputs": [],
   "source": [
    "#Creating the group list of common IDs\n",
    "group_list = ['CoC Number', 'year']\n",
    "\n",
    "#Grouping all common IDs and summing all rows of each group without summing empty values\n",
    "new_df = agg_df.groupby(group_list).agg({'total_pop': lambda x: x.sum(skipna=False), \n",
    "                                         'All Ages in Poverty': lambda x: x.sum(skipna=False), \n",
    "                                         'total_jail_pop': lambda x: x.sum(skipna=False), \n",
    "                                         'female_jail_pop': lambda x: x.sum(skipna=False), \n",
    "                                         'male_jail_pop': lambda x: x.sum(skipna=False), \n",
    "                                         'total_jail_adm': lambda x: x.sum(skipna=False), \n",
    "                                         'total_jail_dis': lambda x: x.sum(skipna=False), \n",
    "                                         'total_prison_pop': lambda x: x.sum(skipna=False), \n",
    "                                         'female_prison_pop': lambda x: x.sum(skipna=False), \n",
    "                                         'male_prison_pop': lambda x: x.sum(skipna=False), \n",
    "                                         'total_prison_adm': lambda x: x.sum(skipna=False), \n",
    "                                         'total_votes': lambda x: x.sum(skipna=False), \n",
    "                                         'dem_votes': lambda x: x.sum(skipna=False), \n",
    "                                         'gop_votes': lambda x: x.sum(skipna=False), \n",
    "                                         'oth_votes': lambda x: x.sum(skipna=False)}).reset_index()\n"
   ]
  },
  {
   "cell_type": "code",
   "execution_count": 7,
   "metadata": {},
   "outputs": [
    {
     "name": "stdout",
     "output_type": "stream",
     "text": [
      "     CoC Number  year  total_pop  All Ages in Poverty  total_jail_pop  \\\n",
      "0        AK-500  2007   278792.0                  NaN             NaN   \n",
      "1        AK-500  2008   281554.0                  NaN             NaN   \n",
      "2        AK-500  2009   287677.0            21245.952             NaN   \n",
      "3        AK-500  2010   293310.0            27444.960             NaN   \n",
      "4        AK-500  2011   296154.0            24543.920             NaN   \n",
      "...         ...   ...        ...                  ...             ...   \n",
      "4548     WV-503  2016   272781.0            44522.254          634.60   \n",
      "4549     WV-503  2017   269567.0            46088.169          683.44   \n",
      "4550     WV-503  2018   266367.0            42810.292          726.60   \n",
      "4551     WV-503  2019        NaN            39317.086             NaN   \n",
      "4552     WV-503  2020        NaN                  NaN             NaN   \n",
      "\n",
      "      female_jail_pop  male_jail_pop  total_jail_adm  total_jail_dis  \\\n",
      "0                 NaN            NaN             NaN             NaN   \n",
      "1                 NaN            NaN             NaN             NaN   \n",
      "2                 NaN            NaN             NaN             NaN   \n",
      "3                 NaN            NaN             NaN             NaN   \n",
      "4                 NaN            NaN             NaN             NaN   \n",
      "...               ...            ...             ...             ...   \n",
      "4548            90.51         534.43         9058.27         5956.48   \n",
      "4549           112.82         634.18         8672.29         8019.83   \n",
      "4550           154.41         691.27         8686.60         7995.32   \n",
      "4551              NaN            NaN             NaN             NaN   \n",
      "4552              NaN            NaN             NaN             NaN   \n",
      "\n",
      "      total_prison_pop  female_prison_pop  male_prison_pop  total_prison_adm  \\\n",
      "0                  NaN                NaN              NaN            4975.0   \n",
      "1                  NaN                NaN              NaN            5167.0   \n",
      "2                  NaN                NaN              NaN            5478.0   \n",
      "3                  NaN                NaN              NaN            4297.0   \n",
      "4                  NaN                NaN              NaN            5048.0   \n",
      "...                ...                ...              ...               ...   \n",
      "4548               NaN                NaN              NaN               NaN   \n",
      "4549               NaN                NaN              NaN               NaN   \n",
      "4550               NaN                NaN              NaN               NaN   \n",
      "4551               NaN                NaN              NaN               NaN   \n",
      "4552               NaN                NaN              NaN               NaN   \n",
      "\n",
      "      total_votes  dem_votes  gop_votes  oth_votes  \n",
      "0             NaN        NaN        NaN        NaN  \n",
      "1             NaN        NaN        NaN        NaN  \n",
      "2             NaN        NaN        NaN        NaN  \n",
      "3             NaN        NaN        NaN        NaN  \n",
      "4             NaN        NaN        NaN        NaN  \n",
      "...           ...        ...        ...        ...  \n",
      "4548     109385.0    35770.0    68465.0     5150.0  \n",
      "4549          NaN        NaN        NaN        NaN  \n",
      "4550          NaN        NaN        NaN        NaN  \n",
      "4551          NaN        NaN        NaN        NaN  \n",
      "4552          NaN        NaN        NaN        NaN  \n",
      "\n",
      "[4553 rows x 17 columns]\n"
     ]
    }
   ],
   "source": [
    "print(new_df)"
   ]
  },
  {
   "cell_type": "code",
   "execution_count": 38,
   "metadata": {},
   "outputs": [],
   "source": [
    "#Sending the new DF to excel\n",
    "new_df.to_excel('Summed_Vals.xlsx')"
   ]
  },
  {
   "cell_type": "code",
   "execution_count": null,
   "metadata": {},
   "outputs": [],
   "source": []
  }
 ],
 "metadata": {
  "kernelspec": {
   "display_name": "Python 3",
   "language": "python",
   "name": "python3"
  },
  "language_info": {
   "codemirror_mode": {
    "name": "ipython",
    "version": 3
   },
   "file_extension": ".py",
   "mimetype": "text/x-python",
   "name": "python",
   "nbconvert_exporter": "python",
   "pygments_lexer": "ipython3",
   "version": "3.8.8"
  }
 },
 "nbformat": 4,
 "nbformat_minor": 4
}
