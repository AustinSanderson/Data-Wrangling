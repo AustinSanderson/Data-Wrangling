{
 "cells": [
  {
   "cell_type": "code",
   "execution_count": 2,
   "metadata": {},
   "outputs": [],
   "source": [
    "import pandas as pd"
   ]
  },
  {
   "cell_type": "code",
   "execution_count": 33,
   "metadata": {},
   "outputs": [
    {
     "data": {
      "text/plain": [
       "CoC Number                              object\n",
       "total_pop                              float64\n",
       "year                                     int64\n",
       "All Ages SAIPE Poverty Universe         object\n",
       "All Ages in Poverty                    float64\n",
       "Under Age 18 SAIPE Poverty Universe     object\n",
       "Under Age 18 in Poverty Count           object\n",
       "total_jail_pop                         float64\n",
       "female_jail_pop                        float64\n",
       "male_jail_pop                          float64\n",
       "total_jail_adm                         float64\n",
       "total_jail_dis                         float64\n",
       "total_prison_pop                       float64\n",
       "female_prison_pop                      float64\n",
       "male_prison_pop                        float64\n",
       "total_prison_adm                       float64\n",
       "dtype: object"
      ]
     },
     "execution_count": 33,
     "metadata": {},
     "output_type": "execute_result"
    }
   ],
   "source": [
    "#Creating a list of desired variables for the dataframe\n",
    "filt_list = ['CoC Number', 'year', 'total_pop', 'All Ages in Poverty', \n",
    "               'total_jail_pop', 'female_jail_pop', 'male_jail_pop', 'total_jail_adm', 'total_jail_dis', 'total_prison_pop', 'female_prison_pop', \n",
    "                'male_prison_pop', 'total_prison_adm', 'All Ages SAIPE Poverty Universe', 'Under Age 18 SAIPE Poverty Universe', 'Under Age 18 in Poverty Count']\n",
    "\n",
    "#Reading in spreadsheet with only the desired variables\n",
    "agg_df = pd.read_excel('CoC_Dict + Pov + Incar + Climate + Rents + PopDensity + CannaPol + ElectionVotes.xlsx', sheet_name='Sheet1', usecols=filt_list)\n",
    "agg_df.dtypes"
   ]
  },
  {
   "cell_type": "code",
   "execution_count": 36,
   "metadata": {},
   "outputs": [],
   "source": [
    "#Creating the group list of common IDs\n",
    "group_list = ['CoC Number', 'year']\n",
    "\n",
    "#Grouping all common IDs and summing all rows of each group without summing empty values\n",
    "new_df = agg_df.groupby(group_list).agg({'total_pop': lambda x: x.sum(skipna=False), \n",
    "                                         'All Ages in Poverty': lambda x: x.sum(skipna=False), \n",
    "                                         'total_jail_pop': lambda x: x.sum(skipna=False), \n",
    "                                         'female_jail_pop': lambda x: x.sum(skipna=False), \n",
    "                                         'male_jail_pop': lambda x: x.sum(skipna=False), \n",
    "                                         'total_jail_adm': lambda x: x.sum(skipna=False), \n",
    "                                         'total_jail_dis': lambda x: x.sum(skipna=False), \n",
    "                                         'total_prison_pop': lambda x: x.sum(skipna=False), \n",
    "                                         'female_prison_pop': lambda x: x.sum(skipna=False), \n",
    "                                         'male_prison_pop': lambda x: x.sum(skipna=False), \n",
    "                                         'total_prison_adm': lambda x: x.sum(skipna=False), \n",
    "                                         'total_votes': lambda x: x.sum(skipna=False), \n",
    "                                         'dem_votes': lambda x: x.sum(skipna=False), \n",
    "                                         'gop_votes': lambda x: x.sum(skipna=False), \n",
    "                                         'oth_votes': lambda x: x.sum(skipna=False)}).reset_index()\n"
   ]
  },
  {
   "cell_type": "code",
   "execution_count": 37,
   "metadata": {},
   "outputs": [
    {
     "name": "stdout",
     "output_type": "stream",
     "text": [
      "     CoC Number  year total_pop All Ages in Poverty total_jail_pop  \\\n",
      "                            sum                 sum            sum   \n",
      "0        AK-500  2007  278792.0               0.000           0.00   \n",
      "1        AK-500  2008  281554.0               0.000           0.00   \n",
      "2        AK-500  2009  287677.0           21245.952           0.00   \n",
      "3        AK-500  2010  293310.0           27444.960           0.00   \n",
      "4        AK-500  2011  296154.0           24543.920           0.00   \n",
      "...         ...   ...       ...                 ...            ...   \n",
      "4599     WV-503  2016  272781.0           44522.254         634.60   \n",
      "4600     WV-503  2017  269567.0           46088.169         683.44   \n",
      "4601     WV-503  2018  266367.0           42810.292         726.60   \n",
      "4602     WV-503  2019       0.0           39317.086           0.00   \n",
      "4603     WV-503  2020       0.0               0.000           0.00   \n",
      "\n",
      "     female_jail_pop male_jail_pop total_jail_adm total_jail_dis  \\\n",
      "                 sum           sum            sum            sum   \n",
      "0               0.00          0.00           0.00           0.00   \n",
      "1               0.00          0.00           0.00           0.00   \n",
      "2               0.00          0.00           0.00           0.00   \n",
      "3               0.00          0.00           0.00           0.00   \n",
      "4               0.00          0.00           0.00           0.00   \n",
      "...              ...           ...            ...            ...   \n",
      "4599           90.51        534.43        9058.27        5956.48   \n",
      "4600          112.82        634.18        8672.29        8019.83   \n",
      "4601          154.41        691.27        8686.60        7995.32   \n",
      "4602            0.00          0.00           0.00           0.00   \n",
      "4603            0.00          0.00           0.00           0.00   \n",
      "\n",
      "     total_prison_pop female_prison_pop male_prison_pop total_prison_adm  \n",
      "                  sum               sum             sum              sum  \n",
      "0                 0.0               0.0             0.0           4975.0  \n",
      "1                 0.0               0.0             0.0           5167.0  \n",
      "2                 0.0               0.0             0.0           5478.0  \n",
      "3                 0.0               0.0             0.0           4297.0  \n",
      "4                 0.0               0.0             0.0           5048.0  \n",
      "...               ...               ...             ...              ...  \n",
      "4599              0.0               0.0             0.0              0.0  \n",
      "4600              0.0               0.0             0.0              0.0  \n",
      "4601              0.0               0.0             0.0              0.0  \n",
      "4602              0.0               0.0             0.0              0.0  \n",
      "4603              0.0               0.0             0.0              0.0  \n",
      "\n",
      "[4604 rows x 13 columns]\n"
     ]
    }
   ],
   "source": [
    "print(new_df)"
   ]
  },
  {
   "cell_type": "code",
   "execution_count": 38,
   "metadata": {},
   "outputs": [],
   "source": [
    "#Sending the new DF to excel\n",
    "new_df.to_excel('Summed_Vals.xlsx')"
   ]
  },
  {
   "cell_type": "code",
   "execution_count": null,
   "metadata": {},
   "outputs": [],
   "source": []
  }
 ],
 "metadata": {
  "kernelspec": {
   "display_name": "Python 3",
   "language": "python",
   "name": "python3"
  },
  "language_info": {
   "codemirror_mode": {
    "name": "ipython",
    "version": 3
   },
   "file_extension": ".py",
   "mimetype": "text/x-python",
   "name": "python",
   "nbconvert_exporter": "python",
   "pygments_lexer": "ipython3",
   "version": "3.8.8"
  }
 },
 "nbformat": 4,
 "nbformat_minor": 4
}
