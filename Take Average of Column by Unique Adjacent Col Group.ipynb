{
 "cells": [
  {
   "cell_type": "code",
   "execution_count": 1,
   "metadata": {},
   "outputs": [],
   "source": [
    "import pandas as pd"
   ]
  },
  {
   "cell_type": "code",
   "execution_count": 2,
   "metadata": {},
   "outputs": [
    {
     "name": "stdout",
     "output_type": "stream",
     "text": [
      "          fips  Rent50_0  Rent50_1  Rent50_2  Rent50_3  Rent50_4  Year\n",
      "0       1001.0       511       587       667       896      1169  2007\n",
      "1       1003.0       462       621       691       940      1200  2007\n",
      "2       1005.0       399       399       479       659       779  2007\n",
      "3       1007.0       483       555       619       789       846  2007\n",
      "4       1009.0       483       555       619       789       846  2007\n",
      "...        ...       ...       ...       ...       ...       ...   ...\n",
      "66722  72151.0       478       577       452       769       961  2018\n",
      "66723  72153.0       340       390       330       511       687  2018\n",
      "66724  78010.0       833      1017       816      1275      1385  2018\n",
      "66725  78020.0      1284      1596      1084      2001      2174  2018\n",
      "66726  78030.0       921      1152       763      1444      1569  2018\n",
      "\n",
      "[66727 rows x 7 columns]\n"
     ]
    }
   ],
   "source": [
    "#Reading in the xlsx\n",
    "df = pd.read_excel('rents_combined.xlsx')\n",
    "print(df)"
   ]
  },
  {
   "cell_type": "code",
   "execution_count": 12,
   "metadata": {},
   "outputs": [],
   "source": [
    "#Creating a list of variable cols and a list of common IDs\n",
    "var_cols = ['Rent50_0', 'Rent50_1', 'Rent50_2', 'Rent50_3', 'Rent50_4']\n",
    "common_id_cols =['fips', 'Year']"
   ]
  },
  {
   "cell_type": "code",
   "execution_count": 14,
   "metadata": {},
   "outputs": [
    {
     "name": "stdout",
     "output_type": "stream",
     "text": [
      "          fips  Year  Rent50_0  Rent50_1  Rent50_2  Rent50_3  Rent50_4\n",
      "0       1001.0  2007     511.0     587.0     667.0     896.0    1169.0\n",
      "1       1001.0  2008     542.0     623.0     708.0     951.0    1241.0\n",
      "2       1001.0  2009     580.0     666.0     757.0    1017.0    1327.0\n",
      "3       1001.0  2010     604.0     693.0     788.0    1058.0    1381.0\n",
      "4       1001.0  2011     604.0     693.0     788.0    1058.0    1381.0\n",
      "...        ...   ...       ...       ...       ...       ...       ...\n",
      "45177  78030.0  2016     704.0     849.0    1063.0    1319.0    1457.0\n",
      "45178  78030.0  2017     724.0     873.0    1093.0    1356.0    1498.0\n",
      "45179  78030.0  2018     921.0    1152.0     763.0    1444.0    1569.0\n",
      "45180  78030.0  2019     897.0    1123.0     744.0    1407.0    1518.0\n",
      "45181  78030.0  2020    1000.0    1251.0     829.0    1559.0    1695.0\n",
      "\n",
      "[45182 rows x 7 columns]\n"
     ]
    }
   ],
   "source": [
    "#Creating new df by averaging all rent values for commons fips, corresponding to counties with multiple subs\n",
    "new_df = df.groupby(common_id_cols, as_index=False)[col_list].mean()\n",
    "print(new_df)"
   ]
  },
  {
   "cell_type": "code",
   "execution_count": 16,
   "metadata": {},
   "outputs": [],
   "source": [
    "new_df.to_excel('Average of Rent Prices by Year for Unique FIPS.xlsx')"
   ]
  },
  {
   "cell_type": "code",
   "execution_count": null,
   "metadata": {},
   "outputs": [],
   "source": []
  }
 ],
 "metadata": {
  "kernelspec": {
   "display_name": "Python 3",
   "language": "python",
   "name": "python3"
  },
  "language_info": {
   "codemirror_mode": {
    "name": "ipython",
    "version": 3
   },
   "file_extension": ".py",
   "mimetype": "text/x-python",
   "name": "python",
   "nbconvert_exporter": "python",
   "pygments_lexer": "ipython3",
   "version": "3.8.8"
  }
 },
 "nbformat": 4,
 "nbformat_minor": 4
}
